{
 "cells": [
  {
   "cell_type": "code",
   "execution_count": null,
   "metadata": {},
   "outputs": [],
   "source": [
    "import boto3\n",
    "import re\n",
    "\n",
    "import os\n",
    "#import numpy as np\n",
    "#import pandas as pd\n",
    "\n",
    "from sagemaker import get_execution_role\n",
    "import sagemaker as sage\n",
    "\n"
   ]
  },
  {
   "cell_type": "code",
   "execution_count": null,
   "metadata": {},
   "outputs": [],
   "source": [
    "# this line of code require additional iam:GetRole permissions.\n",
    "role = get_execution_role()\n",
    "sess = sage.Session()\n",
    "\n",
    "account = sess.boto_session.client('sts').get_caller_identity()['Account']\n",
    "region = sess.boto_session.region_name\n",
    "image = '{}.dkr.ecr.{}.amazonaws.com/aidevops/sagemaker-demo'.format(account, region)\n",
    "\n",
    "clf = sage.estimator.Estimator(image,\n",
    "                               role, 1, 'ml.c4.2xlarge',\n",
    "                               output_path=\"s3://sagemaker-aidevops/model\",\n",
    "                               sagemaker_session=sess)\n",
    "\n",
    "#clf.fit(\"s3://sagemaker-aidevops/training-data\")\n",
    "clf.fit({'training': 's3://sagemaker-aidevops/training-data'})\n",
    "\n",
    "print('Finished training job: ', clf._current_job_name)"
   ]
  }
 ],
 "metadata": {
  "kernelspec": {
   "display_name": "conda_python3",
   "language": "python",
   "name": "conda_python3"
  },
  "language_info": {
   "codemirror_mode": {
    "name": "ipython",
    "version": 3
   },
   "file_extension": ".py",
   "mimetype": "text/x-python",
   "name": "python",
   "nbconvert_exporter": "python",
   "pygments_lexer": "ipython3",
   "version": "3.6.10"
  }
 },
 "nbformat": 4,
 "nbformat_minor": 4
}
